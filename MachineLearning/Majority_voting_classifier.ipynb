{
 "cells": [
  {
   "cell_type": "code",
   "execution_count": 19,
   "id": "initial_id",
   "metadata": {
    "collapsed": true,
    "ExecuteTime": {
     "end_time": "2024-04-09T05:24:03.079980Z",
     "start_time": "2024-04-09T05:24:03.074828Z"
    }
   },
   "outputs": [],
   "source": [
    "from sklearn.ensemble import VotingClassifier\n",
    "from sklearn.tree import DecisionTreeClassifier\n",
    "from sklearn.neighbors import KNeighborsClassifier\n",
    "from sklearn.svm import SVC\n",
    "from sklearn.model_selection import train_test_split\n",
    "from sklearn.metrics import accuracy_score\n",
    "from sklearn.datasets import load_iris"
   ]
  },
  {
   "cell_type": "code",
   "outputs": [],
   "source": [
    "# Load the iris dataset\n",
    "iris = load_iris()\n",
    "X,y=iris.data, iris.target"
   ],
   "metadata": {
    "collapsed": false,
    "ExecuteTime": {
     "end_time": "2024-04-09T05:24:03.087946Z",
     "start_time": "2024-04-09T05:24:03.082069Z"
    }
   },
   "id": "f7f36ed3dd0c266f",
   "execution_count": 20
  },
  {
   "cell_type": "code",
   "outputs": [],
   "source": [
    "#Split the data into training and testing sets\n",
    "X_train,X_test,y_train,y_test = train_test_split(X,y,test_size=0.2,random_state=42)"
   ],
   "metadata": {
    "collapsed": false,
    "ExecuteTime": {
     "end_time": "2024-04-09T05:24:03.094699Z",
     "start_time": "2024-04-09T05:24:03.090093Z"
    }
   },
   "id": "84624d5e9273f3cb",
   "execution_count": 21
  },
  {
   "cell_type": "code",
   "outputs": [],
   "source": [
    "#Define the classifiers individually\n",
    "clf1=DecisionTreeClassifier(max_depth=4)\n",
    "clf2=KNeighborsClassifier(n_neighbors=7) # K=1,3,5,7,9,11\n",
    "clf3=SVC(kernel='linear',probability=True)"
   ],
   "metadata": {
    "collapsed": false,
    "ExecuteTime": {
     "end_time": "2024-04-09T05:24:03.132455Z",
     "start_time": "2024-04-09T05:24:03.127224Z"
    }
   },
   "id": "f807768455aef659",
   "execution_count": 22
  },
  {
   "cell_type": "code",
   "outputs": [
    {
     "name": "stdout",
     "output_type": "stream",
     "text": [
      "Accuracy:  1.0\n"
     ]
    }
   ],
   "source": [
    "# Define voting classifier with majority voting\n",
    "voting_clf=VotingClassifier(estimators=[('dt',clf1),('knn',clf2),('svc',clf3)],voting='hard')\n",
    "#Training the voting classifier\n",
    "voting_clf.fit(X_train, y_train)\n",
    "#Prediction of the voting classifier\n",
    "y_pred=voting_clf.predict(X_test)\n",
    "#Prediction the accuracy\n",
    "acc=accuracy_score(y_test,y_pred)\n",
    "print(\"Accuracy: \",acc)"
   ],
   "metadata": {
    "collapsed": false,
    "ExecuteTime": {
     "end_time": "2024-04-09T05:24:03.170093Z",
     "start_time": "2024-04-09T05:24:03.153480Z"
    }
   },
   "id": "3273f95f96c33e3d",
   "execution_count": 23
  },
  {
   "cell_type": "code",
   "outputs": [],
   "source": [
    "# Bagging technique-Bootstrap Aggregating - overcome overfitting problem\n",
    "from sklearn.ensemble import BaggingClassifier\n",
    "from sklearn.model_selection import train_test_split\n",
    "import pandas as pd\n",
    "df_wine = pd.read_csv('https://archive.ics.uci.edu/ml/''machine-learning-databases/wine/wine.data', header=None)\n",
    "df_wine.columns = ['Class label', 'Alcohol','Malic acid', 'Ash','Alcalinity of ash',\n",
    "'Magnesium', 'Total phenols',\n",
    "'Flavanoids', 'Nonflavanoid phenols',\n",
    "'Proanthocyanins','Color intensity', 'Hue','OD280/OD315 of diluted wines','Proline']\n",
    "# drop 1 class\n",
    "df_wine = df_wine[df_wine['Class label'] != 1]\n",
    "y = df_wine['Class label'].values\n",
    "X = df_wine[['Alcohol','OD280/OD315 of diluted wines']].values"
   ],
   "metadata": {
    "collapsed": false,
    "ExecuteTime": {
     "end_time": "2024-04-09T05:24:04.821650Z",
     "start_time": "2024-04-09T05:24:03.194780Z"
    }
   },
   "id": "837bed1aabf4c222",
   "execution_count": 24
  },
  {
   "cell_type": "code",
   "outputs": [],
   "source": [
    "# Split the data into training and testing sets\n",
    "from sklearn.preprocessing import LabelEncoder\n",
    "le=LabelEncoder()\n",
    "y=le.fit_transform(y)\n",
    "x_train, x_test, y_train, y_test = train_test_split(X, y,test_size=0.2,random_state=1,stratify=y)"
   ],
   "metadata": {
    "collapsed": false,
    "ExecuteTime": {
     "end_time": "2024-04-09T05:24:04.834251Z",
     "start_time": "2024-04-09T05:24:04.824860Z"
    }
   },
   "id": "3e7ce786ec251586",
   "execution_count": 25
  },
  {
   "cell_type": "code",
   "outputs": [],
   "source": [
    "from sklearn.tree import DecisionTreeClassifier\n",
    "tree = DecisionTreeClassifier(criterion='entropy',random_state=1,max_depth=None)\n",
    "\n",
    "#Make Baggingclassifier model\n",
    "bag=BaggingClassifier(estimator=tree,n_estimators=500,max_samples=1.0,max_features=1.0,bootstrap=True,bootstrap_features=False,n_jobs=-1,random_state=1) #n_jobs = -1 means we can take as many jobs as we want no limit."
   ],
   "metadata": {
    "collapsed": false,
    "ExecuteTime": {
     "end_time": "2024-04-09T05:24:04.857333Z",
     "start_time": "2024-04-09T05:24:04.835908Z"
    }
   },
   "id": "4d4da2a6f800ce3",
   "execution_count": 26
  },
  {
   "cell_type": "code",
   "outputs": [
    {
     "name": "stdout",
     "output_type": "stream",
     "text": [
      "Decision Tree Train/ Test Accuracies %.3f/%.3f: (1.0, 0.8333333333333334)\n"
     ]
    }
   ],
   "source": [
    "from sklearn.metrics import accuracy_score\n",
    "#Train the individual DT model\n",
    "tree = tree.fit(x_train,y_train)\n",
    "#Predicition of the DT model individually\n",
    "y_train_pred=tree.predict(x_train)\n",
    "y_test_pred=tree.predict(x_test)\n",
    "\n",
    "#Calculate accuracies\n",
    "tree_train=accuracy_score(y_train,y_train_pred)\n",
    "tree_test=accuracy_score(y_test,y_test_pred)\n",
    "print('Decision Tree Train/ Test Accuracies %.3f/%.3f:',(tree_train,tree_test))"
   ],
   "metadata": {
    "collapsed": false,
    "ExecuteTime": {
     "end_time": "2024-04-09T05:24:04.870684Z",
     "start_time": "2024-04-09T05:24:04.859380Z"
    }
   },
   "id": "2f79cf01f98a1a6b",
   "execution_count": 27
  },
  {
   "cell_type": "code",
   "outputs": [
    {
     "name": "stdout",
     "output_type": "stream",
     "text": [
      "Bagging Classifier Train/ Test Accuracies %.3f/%.3f: (1.0, 0.8333333333333334)\n"
     ]
    }
   ],
   "source": [
    "\n",
    "bag = bag.fit(x_train,y_train)\n",
    "#Predicition of the DT model individually\n",
    "y_train_pred=bag.predict(x_train)\n",
    "y_test_pred=bag.predict(x_test)\n",
    "\n",
    "#Calculate accuracies\n",
    "bag=accuracy_score(y_train,y_train_pred)\n",
    "bag_test=accuracy_score(y_test,y_test_pred)\n",
    "print('Bagging Classifier Train/ Test Accuracies %.3f/%.3f:',(tree_train,tree_test))"
   ],
   "metadata": {
    "collapsed": false,
    "ExecuteTime": {
     "end_time": "2024-04-09T05:25:06.472615Z",
     "start_time": "2024-04-09T05:25:03.660386Z"
    }
   },
   "id": "83fb053efb0999d8",
   "execution_count": 28
  },
  {
   "cell_type": "code",
   "outputs": [],
   "source": [],
   "metadata": {
    "collapsed": false
   },
   "id": "58cdd0b84408cf2f"
  }
 ],
 "metadata": {
  "kernelspec": {
   "display_name": "Python 3",
   "language": "python",
   "name": "python3"
  },
  "language_info": {
   "codemirror_mode": {
    "name": "ipython",
    "version": 2
   },
   "file_extension": ".py",
   "mimetype": "text/x-python",
   "name": "python",
   "nbconvert_exporter": "python",
   "pygments_lexer": "ipython2",
   "version": "2.7.6"
  }
 },
 "nbformat": 4,
 "nbformat_minor": 5
}
